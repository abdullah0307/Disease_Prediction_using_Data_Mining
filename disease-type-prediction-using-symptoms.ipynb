{
 "cells": [
  {
   "cell_type": "markdown",
   "metadata": {},
   "source": [
    "# Disease Predictor using Data Mining"
   ]
  },
  {
   "cell_type": "markdown",
   "metadata": {},
   "source": [
    "### Dataset link:\n",
    "https://www.kaggle.com/itachi9604/disease-symptom-description-dataset?select=dataset.csv\n",
    "\n",
    "### Tools and Techniques\n",
    "*  Environment used is PyCharm\n",
    "*  Classifier Algorithm used is Support Vector Classifer\n",
    "*  Frontend framework is pyqt5\n",
    "*  Backend Languge used is Python 3.6\n",
    "*  Used the pandas framework for data manupulation and cleaning"
   ]
  },
  {
   "cell_type": "markdown",
   "metadata": {},
   "source": [
    "**Importing libraries**"
   ]
  },
  {
   "cell_type": "code",
   "execution_count": 1,
   "metadata": {
    "_cell_guid": "b1076dfc-b9ad-4769-8c92-a6c4dae69d19",
    "_uuid": "8f2839f25d086af736a60e9eeb907d3b93b6e0e5",
    "papermill": {
     "duration": 1.381952,
     "end_time": "2020-11-29T11:46:56.553526",
     "exception": false,
     "start_time": "2020-11-29T11:46:55.171574",
     "status": "completed"
    },
    "tags": []
   },
   "outputs": [],
   "source": [
    "import pandas as pd\n",
    "import numpy as np\n",
    "import matplotlib.pyplot as plt\n",
    "from sklearn.model_selection import train_test_split\n",
    "from sklearn.svm import SVC\n",
    "from sklearn.metrics import f1_score, accuracy_score, confusion_matrix\n",
    "import seaborn as sns"
   ]
  },
  {
   "cell_type": "markdown",
   "metadata": {
    "papermill": {
     "duration": 0.025934,
     "end_time": "2020-11-29T11:46:56.736090",
     "exception": false,
     "start_time": "2020-11-29T11:46:56.710156",
     "status": "completed"
    },
    "tags": []
   },
   "source": [
    "**Read the dataset**"
   ]
  },
  {
   "cell_type": "code",
   "execution_count": 2,
   "metadata": {
    "_cell_guid": "79c7e3d0-c299-4dcb-8224-4455121ee9b0",
    "_uuid": "d629ff2d2480ee46fbb7e2d37f6b5fab8052498a",
    "papermill": {
     "duration": 0.103752,
     "end_time": "2020-11-29T11:46:56.865999",
     "exception": false,
     "start_time": "2020-11-29T11:46:56.762247",
     "status": "completed"
    },
    "tags": []
   },
   "outputs": [
    {
     "data": {
      "text/html": [
       "<div>\n",
       "<style scoped>\n",
       "    .dataframe tbody tr th:only-of-type {\n",
       "        vertical-align: middle;\n",
       "    }\n",
       "\n",
       "    .dataframe tbody tr th {\n",
       "        vertical-align: top;\n",
       "    }\n",
       "\n",
       "    .dataframe thead th {\n",
       "        text-align: right;\n",
       "    }\n",
       "</style>\n",
       "<table border=\"1\" class=\"dataframe\">\n",
       "  <thead>\n",
       "    <tr style=\"text-align: right;\">\n",
       "      <th></th>\n",
       "      <th>Disease</th>\n",
       "      <th>Symptom_1</th>\n",
       "      <th>Symptom_2</th>\n",
       "      <th>Symptom_3</th>\n",
       "      <th>Symptom_4</th>\n",
       "      <th>Symptom_5</th>\n",
       "      <th>Symptom_6</th>\n",
       "      <th>Symptom_7</th>\n",
       "      <th>Symptom_8</th>\n",
       "      <th>Symptom_9</th>\n",
       "      <th>Symptom_10</th>\n",
       "      <th>Symptom_11</th>\n",
       "      <th>Symptom_12</th>\n",
       "      <th>Symptom_13</th>\n",
       "      <th>Symptom_14</th>\n",
       "      <th>Symptom_15</th>\n",
       "      <th>Symptom_16</th>\n",
       "      <th>Symptom_17</th>\n",
       "    </tr>\n",
       "  </thead>\n",
       "  <tbody>\n",
       "    <tr>\n",
       "      <th>0</th>\n",
       "      <td>Fungal infection</td>\n",
       "      <td>itching</td>\n",
       "      <td>skin_rash</td>\n",
       "      <td>nodal_skin_eruptions</td>\n",
       "      <td>dischromic _patches</td>\n",
       "      <td>NaN</td>\n",
       "      <td>NaN</td>\n",
       "      <td>NaN</td>\n",
       "      <td>NaN</td>\n",
       "      <td>NaN</td>\n",
       "      <td>NaN</td>\n",
       "      <td>NaN</td>\n",
       "      <td>NaN</td>\n",
       "      <td>NaN</td>\n",
       "      <td>NaN</td>\n",
       "      <td>NaN</td>\n",
       "      <td>NaN</td>\n",
       "      <td>NaN</td>\n",
       "    </tr>\n",
       "    <tr>\n",
       "      <th>1</th>\n",
       "      <td>Fungal infection</td>\n",
       "      <td>skin_rash</td>\n",
       "      <td>nodal_skin_eruptions</td>\n",
       "      <td>dischromic _patches</td>\n",
       "      <td>NaN</td>\n",
       "      <td>NaN</td>\n",
       "      <td>NaN</td>\n",
       "      <td>NaN</td>\n",
       "      <td>NaN</td>\n",
       "      <td>NaN</td>\n",
       "      <td>NaN</td>\n",
       "      <td>NaN</td>\n",
       "      <td>NaN</td>\n",
       "      <td>NaN</td>\n",
       "      <td>NaN</td>\n",
       "      <td>NaN</td>\n",
       "      <td>NaN</td>\n",
       "      <td>NaN</td>\n",
       "    </tr>\n",
       "    <tr>\n",
       "      <th>2</th>\n",
       "      <td>Fungal infection</td>\n",
       "      <td>itching</td>\n",
       "      <td>nodal_skin_eruptions</td>\n",
       "      <td>dischromic _patches</td>\n",
       "      <td>NaN</td>\n",
       "      <td>NaN</td>\n",
       "      <td>NaN</td>\n",
       "      <td>NaN</td>\n",
       "      <td>NaN</td>\n",
       "      <td>NaN</td>\n",
       "      <td>NaN</td>\n",
       "      <td>NaN</td>\n",
       "      <td>NaN</td>\n",
       "      <td>NaN</td>\n",
       "      <td>NaN</td>\n",
       "      <td>NaN</td>\n",
       "      <td>NaN</td>\n",
       "      <td>NaN</td>\n",
       "    </tr>\n",
       "    <tr>\n",
       "      <th>3</th>\n",
       "      <td>Fungal infection</td>\n",
       "      <td>itching</td>\n",
       "      <td>skin_rash</td>\n",
       "      <td>dischromic _patches</td>\n",
       "      <td>NaN</td>\n",
       "      <td>NaN</td>\n",
       "      <td>NaN</td>\n",
       "      <td>NaN</td>\n",
       "      <td>NaN</td>\n",
       "      <td>NaN</td>\n",
       "      <td>NaN</td>\n",
       "      <td>NaN</td>\n",
       "      <td>NaN</td>\n",
       "      <td>NaN</td>\n",
       "      <td>NaN</td>\n",
       "      <td>NaN</td>\n",
       "      <td>NaN</td>\n",
       "      <td>NaN</td>\n",
       "    </tr>\n",
       "    <tr>\n",
       "      <th>4</th>\n",
       "      <td>Fungal infection</td>\n",
       "      <td>itching</td>\n",
       "      <td>skin_rash</td>\n",
       "      <td>nodal_skin_eruptions</td>\n",
       "      <td>NaN</td>\n",
       "      <td>NaN</td>\n",
       "      <td>NaN</td>\n",
       "      <td>NaN</td>\n",
       "      <td>NaN</td>\n",
       "      <td>NaN</td>\n",
       "      <td>NaN</td>\n",
       "      <td>NaN</td>\n",
       "      <td>NaN</td>\n",
       "      <td>NaN</td>\n",
       "      <td>NaN</td>\n",
       "      <td>NaN</td>\n",
       "      <td>NaN</td>\n",
       "      <td>NaN</td>\n",
       "    </tr>\n",
       "    <tr>\n",
       "      <th>5</th>\n",
       "      <td>Fungal infection</td>\n",
       "      <td>skin_rash</td>\n",
       "      <td>nodal_skin_eruptions</td>\n",
       "      <td>dischromic _patches</td>\n",
       "      <td>NaN</td>\n",
       "      <td>NaN</td>\n",
       "      <td>NaN</td>\n",
       "      <td>NaN</td>\n",
       "      <td>NaN</td>\n",
       "      <td>NaN</td>\n",
       "      <td>NaN</td>\n",
       "      <td>NaN</td>\n",
       "      <td>NaN</td>\n",
       "      <td>NaN</td>\n",
       "      <td>NaN</td>\n",
       "      <td>NaN</td>\n",
       "      <td>NaN</td>\n",
       "      <td>NaN</td>\n",
       "    </tr>\n",
       "    <tr>\n",
       "      <th>6</th>\n",
       "      <td>Fungal infection</td>\n",
       "      <td>itching</td>\n",
       "      <td>nodal_skin_eruptions</td>\n",
       "      <td>dischromic _patches</td>\n",
       "      <td>NaN</td>\n",
       "      <td>NaN</td>\n",
       "      <td>NaN</td>\n",
       "      <td>NaN</td>\n",
       "      <td>NaN</td>\n",
       "      <td>NaN</td>\n",
       "      <td>NaN</td>\n",
       "      <td>NaN</td>\n",
       "      <td>NaN</td>\n",
       "      <td>NaN</td>\n",
       "      <td>NaN</td>\n",
       "      <td>NaN</td>\n",
       "      <td>NaN</td>\n",
       "      <td>NaN</td>\n",
       "    </tr>\n",
       "    <tr>\n",
       "      <th>7</th>\n",
       "      <td>Fungal infection</td>\n",
       "      <td>itching</td>\n",
       "      <td>skin_rash</td>\n",
       "      <td>dischromic _patches</td>\n",
       "      <td>NaN</td>\n",
       "      <td>NaN</td>\n",
       "      <td>NaN</td>\n",
       "      <td>NaN</td>\n",
       "      <td>NaN</td>\n",
       "      <td>NaN</td>\n",
       "      <td>NaN</td>\n",
       "      <td>NaN</td>\n",
       "      <td>NaN</td>\n",
       "      <td>NaN</td>\n",
       "      <td>NaN</td>\n",
       "      <td>NaN</td>\n",
       "      <td>NaN</td>\n",
       "      <td>NaN</td>\n",
       "    </tr>\n",
       "    <tr>\n",
       "      <th>8</th>\n",
       "      <td>Fungal infection</td>\n",
       "      <td>itching</td>\n",
       "      <td>skin_rash</td>\n",
       "      <td>nodal_skin_eruptions</td>\n",
       "      <td>NaN</td>\n",
       "      <td>NaN</td>\n",
       "      <td>NaN</td>\n",
       "      <td>NaN</td>\n",
       "      <td>NaN</td>\n",
       "      <td>NaN</td>\n",
       "      <td>NaN</td>\n",
       "      <td>NaN</td>\n",
       "      <td>NaN</td>\n",
       "      <td>NaN</td>\n",
       "      <td>NaN</td>\n",
       "      <td>NaN</td>\n",
       "      <td>NaN</td>\n",
       "      <td>NaN</td>\n",
       "    </tr>\n",
       "    <tr>\n",
       "      <th>9</th>\n",
       "      <td>Fungal infection</td>\n",
       "      <td>itching</td>\n",
       "      <td>skin_rash</td>\n",
       "      <td>nodal_skin_eruptions</td>\n",
       "      <td>dischromic _patches</td>\n",
       "      <td>NaN</td>\n",
       "      <td>NaN</td>\n",
       "      <td>NaN</td>\n",
       "      <td>NaN</td>\n",
       "      <td>NaN</td>\n",
       "      <td>NaN</td>\n",
       "      <td>NaN</td>\n",
       "      <td>NaN</td>\n",
       "      <td>NaN</td>\n",
       "      <td>NaN</td>\n",
       "      <td>NaN</td>\n",
       "      <td>NaN</td>\n",
       "      <td>NaN</td>\n",
       "    </tr>\n",
       "  </tbody>\n",
       "</table>\n",
       "</div>"
      ],
      "text/plain": [
       "            Disease   Symptom_1              Symptom_2              Symptom_3  \\\n",
       "0  Fungal infection     itching              skin_rash   nodal_skin_eruptions   \n",
       "1  Fungal infection   skin_rash   nodal_skin_eruptions    dischromic _patches   \n",
       "2  Fungal infection     itching   nodal_skin_eruptions    dischromic _patches   \n",
       "3  Fungal infection     itching              skin_rash    dischromic _patches   \n",
       "4  Fungal infection     itching              skin_rash   nodal_skin_eruptions   \n",
       "5  Fungal infection   skin_rash   nodal_skin_eruptions    dischromic _patches   \n",
       "6  Fungal infection     itching   nodal_skin_eruptions    dischromic _patches   \n",
       "7  Fungal infection     itching              skin_rash    dischromic _patches   \n",
       "8  Fungal infection     itching              skin_rash   nodal_skin_eruptions   \n",
       "9  Fungal infection     itching              skin_rash   nodal_skin_eruptions   \n",
       "\n",
       "              Symptom_4 Symptom_5 Symptom_6 Symptom_7 Symptom_8 Symptom_9  \\\n",
       "0   dischromic _patches       NaN       NaN       NaN       NaN       NaN   \n",
       "1                   NaN       NaN       NaN       NaN       NaN       NaN   \n",
       "2                   NaN       NaN       NaN       NaN       NaN       NaN   \n",
       "3                   NaN       NaN       NaN       NaN       NaN       NaN   \n",
       "4                   NaN       NaN       NaN       NaN       NaN       NaN   \n",
       "5                   NaN       NaN       NaN       NaN       NaN       NaN   \n",
       "6                   NaN       NaN       NaN       NaN       NaN       NaN   \n",
       "7                   NaN       NaN       NaN       NaN       NaN       NaN   \n",
       "8                   NaN       NaN       NaN       NaN       NaN       NaN   \n",
       "9   dischromic _patches       NaN       NaN       NaN       NaN       NaN   \n",
       "\n",
       "  Symptom_10 Symptom_11 Symptom_12 Symptom_13 Symptom_14 Symptom_15  \\\n",
       "0        NaN        NaN        NaN        NaN        NaN        NaN   \n",
       "1        NaN        NaN        NaN        NaN        NaN        NaN   \n",
       "2        NaN        NaN        NaN        NaN        NaN        NaN   \n",
       "3        NaN        NaN        NaN        NaN        NaN        NaN   \n",
       "4        NaN        NaN        NaN        NaN        NaN        NaN   \n",
       "5        NaN        NaN        NaN        NaN        NaN        NaN   \n",
       "6        NaN        NaN        NaN        NaN        NaN        NaN   \n",
       "7        NaN        NaN        NaN        NaN        NaN        NaN   \n",
       "8        NaN        NaN        NaN        NaN        NaN        NaN   \n",
       "9        NaN        NaN        NaN        NaN        NaN        NaN   \n",
       "\n",
       "  Symptom_16 Symptom_17  \n",
       "0        NaN        NaN  \n",
       "1        NaN        NaN  \n",
       "2        NaN        NaN  \n",
       "3        NaN        NaN  \n",
       "4        NaN        NaN  \n",
       "5        NaN        NaN  \n",
       "6        NaN        NaN  \n",
       "7        NaN        NaN  \n",
       "8        NaN        NaN  \n",
       "9        NaN        NaN  "
      ]
     },
     "execution_count": 2,
     "metadata": {},
     "output_type": "execute_result"
    }
   ],
   "source": [
    "df = pd.read_csv('data/disease_dataset.csv')\n",
    "df.head(10)"
   ]
  },
  {
   "cell_type": "markdown",
   "metadata": {},
   "source": [
    "**Dataset info**"
   ]
  },
  {
   "cell_type": "code",
   "execution_count": 3,
   "metadata": {},
   "outputs": [
    {
     "name": "stdout",
     "output_type": "stream",
     "text": [
      "<class 'pandas.core.frame.DataFrame'>\n",
      "RangeIndex: 4923 entries, 0 to 4922\n",
      "Data columns (total 18 columns):\n",
      " #   Column      Non-Null Count  Dtype \n",
      "---  ------      --------------  ----- \n",
      " 0   Disease     4923 non-null   object\n",
      " 1   Symptom_1   4923 non-null   object\n",
      " 2   Symptom_2   4923 non-null   object\n",
      " 3   Symptom_3   4923 non-null   object\n",
      " 4   Symptom_4   4575 non-null   object\n",
      " 5   Symptom_5   3716 non-null   object\n",
      " 6   Symptom_6   2936 non-null   object\n",
      " 7   Symptom_7   2270 non-null   object\n",
      " 8   Symptom_8   1946 non-null   object\n",
      " 9   Symptom_9   1693 non-null   object\n",
      " 10  Symptom_10  1512 non-null   object\n",
      " 11  Symptom_11  1194 non-null   object\n",
      " 12  Symptom_12  744 non-null    object\n",
      " 13  Symptom_13  504 non-null    object\n",
      " 14  Symptom_14  306 non-null    object\n",
      " 15  Symptom_15  240 non-null    object\n",
      " 16  Symptom_16  192 non-null    object\n",
      " 17  Symptom_17  72 non-null     object\n",
      "dtypes: object(18)\n",
      "memory usage: 692.4+ KB\n"
     ]
    }
   ],
   "source": [
    "df.info()"
   ]
  },
  {
   "cell_type": "markdown",
   "metadata": {
    "papermill": {
     "duration": 0.026753,
     "end_time": "2020-11-29T11:46:56.919915",
     "exception": false,
     "start_time": "2020-11-29T11:46:56.893162",
     "status": "completed"
    },
    "tags": []
   },
   "source": [
    "**Dataset characteristics**"
   ]
  },
  {
   "cell_type": "code",
   "execution_count": 4,
   "metadata": {
    "papermill": {
     "duration": 0.142747,
     "end_time": "2020-11-29T11:46:57.089679",
     "exception": false,
     "start_time": "2020-11-29T11:46:56.946932",
     "status": "completed"
    },
    "tags": []
   },
   "outputs": [
    {
     "data": {
      "text/html": [
       "<div>\n",
       "<style scoped>\n",
       "    .dataframe tbody tr th:only-of-type {\n",
       "        vertical-align: middle;\n",
       "    }\n",
       "\n",
       "    .dataframe tbody tr th {\n",
       "        vertical-align: top;\n",
       "    }\n",
       "\n",
       "    .dataframe thead th {\n",
       "        text-align: right;\n",
       "    }\n",
       "</style>\n",
       "<table border=\"1\" class=\"dataframe\">\n",
       "  <thead>\n",
       "    <tr style=\"text-align: right;\">\n",
       "      <th></th>\n",
       "      <th>Disease</th>\n",
       "      <th>Symptom_1</th>\n",
       "      <th>Symptom_2</th>\n",
       "      <th>Symptom_3</th>\n",
       "      <th>Symptom_4</th>\n",
       "      <th>Symptom_5</th>\n",
       "      <th>Symptom_6</th>\n",
       "      <th>Symptom_7</th>\n",
       "      <th>Symptom_8</th>\n",
       "      <th>Symptom_9</th>\n",
       "      <th>Symptom_10</th>\n",
       "      <th>Symptom_11</th>\n",
       "      <th>Symptom_12</th>\n",
       "      <th>Symptom_13</th>\n",
       "      <th>Symptom_14</th>\n",
       "      <th>Symptom_15</th>\n",
       "      <th>Symptom_16</th>\n",
       "      <th>Symptom_17</th>\n",
       "    </tr>\n",
       "  </thead>\n",
       "  <tbody>\n",
       "    <tr>\n",
       "      <th>count</th>\n",
       "      <td>4923</td>\n",
       "      <td>4923</td>\n",
       "      <td>4923</td>\n",
       "      <td>4923</td>\n",
       "      <td>4575</td>\n",
       "      <td>3716</td>\n",
       "      <td>2936</td>\n",
       "      <td>2270</td>\n",
       "      <td>1946</td>\n",
       "      <td>1693</td>\n",
       "      <td>1512</td>\n",
       "      <td>1194</td>\n",
       "      <td>744</td>\n",
       "      <td>504</td>\n",
       "      <td>306</td>\n",
       "      <td>240</td>\n",
       "      <td>192</td>\n",
       "      <td>72</td>\n",
       "    </tr>\n",
       "    <tr>\n",
       "      <th>unique</th>\n",
       "      <td>42</td>\n",
       "      <td>36</td>\n",
       "      <td>50</td>\n",
       "      <td>56</td>\n",
       "      <td>52</td>\n",
       "      <td>40</td>\n",
       "      <td>34</td>\n",
       "      <td>28</td>\n",
       "      <td>23</td>\n",
       "      <td>23</td>\n",
       "      <td>21</td>\n",
       "      <td>18</td>\n",
       "      <td>11</td>\n",
       "      <td>8</td>\n",
       "      <td>4</td>\n",
       "      <td>3</td>\n",
       "      <td>3</td>\n",
       "      <td>1</td>\n",
       "    </tr>\n",
       "    <tr>\n",
       "      <th>top</th>\n",
       "      <td>Hypertension</td>\n",
       "      <td>vomiting</td>\n",
       "      <td>vomiting</td>\n",
       "      <td>fatigue</td>\n",
       "      <td>high_fever</td>\n",
       "      <td>headache</td>\n",
       "      <td>nausea</td>\n",
       "      <td>abdominal_pain</td>\n",
       "      <td>abdominal_pain</td>\n",
       "      <td>yellowing_of_eyes</td>\n",
       "      <td>yellowing_of_eyes</td>\n",
       "      <td>irritability</td>\n",
       "      <td>malaise</td>\n",
       "      <td>stomach_bleeding</td>\n",
       "      <td>chest_pain</td>\n",
       "      <td>chest_pain</td>\n",
       "      <td>loss_of_smell</td>\n",
       "      <td>muscle_pain</td>\n",
       "    </tr>\n",
       "    <tr>\n",
       "      <th>freq</th>\n",
       "      <td>120</td>\n",
       "      <td>822</td>\n",
       "      <td>870</td>\n",
       "      <td>726</td>\n",
       "      <td>378</td>\n",
       "      <td>348</td>\n",
       "      <td>390</td>\n",
       "      <td>264</td>\n",
       "      <td>276</td>\n",
       "      <td>228</td>\n",
       "      <td>198</td>\n",
       "      <td>120</td>\n",
       "      <td>126</td>\n",
       "      <td>72</td>\n",
       "      <td>96</td>\n",
       "      <td>144</td>\n",
       "      <td>72</td>\n",
       "      <td>72</td>\n",
       "    </tr>\n",
       "  </tbody>\n",
       "</table>\n",
       "</div>"
      ],
      "text/plain": [
       "              Disease  Symptom_1  Symptom_2 Symptom_3    Symptom_4  Symptom_5  \\\n",
       "count            4923       4923       4923      4923         4575       3716   \n",
       "unique             42         36         50        56           52         40   \n",
       "top     Hypertension    vomiting   vomiting   fatigue   high_fever   headache   \n",
       "freq              120        822        870       726          378        348   \n",
       "\n",
       "       Symptom_6        Symptom_7        Symptom_8           Symptom_9  \\\n",
       "count       2936             2270             1946                1693   \n",
       "unique        34               28               23                  23   \n",
       "top       nausea   abdominal_pain   abdominal_pain   yellowing_of_eyes   \n",
       "freq         390              264              276                 228   \n",
       "\n",
       "                Symptom_10     Symptom_11 Symptom_12         Symptom_13  \\\n",
       "count                 1512           1194        744                504   \n",
       "unique                  21             18         11                  8   \n",
       "top      yellowing_of_eyes   irritability    malaise   stomach_bleeding   \n",
       "freq                   198            120        126                 72   \n",
       "\n",
       "         Symptom_14   Symptom_15      Symptom_16    Symptom_17  \n",
       "count           306          240             192            72  \n",
       "unique            4            3               3             1  \n",
       "top      chest_pain   chest_pain   loss_of_smell   muscle_pain  \n",
       "freq             96          144              72            72  "
      ]
     },
     "execution_count": 4,
     "metadata": {},
     "output_type": "execute_result"
    }
   ],
   "source": [
    "df.describe()"
   ]
  },
  {
   "cell_type": "markdown",
   "metadata": {
    "papermill": {
     "duration": 0.027473,
     "end_time": "2020-11-29T11:46:57.146144",
     "exception": false,
     "start_time": "2020-11-29T11:46:57.118671",
     "status": "completed"
    },
    "tags": []
   },
   "source": [
    "**Check for null and NaN values**"
   ]
  },
  {
   "cell_type": "code",
   "execution_count": 5,
   "metadata": {
    "papermill": {
     "duration": 0.046919,
     "end_time": "2020-11-29T11:46:57.220899",
     "exception": false,
     "start_time": "2020-11-29T11:46:57.173980",
     "status": "completed"
    },
    "tags": []
   },
   "outputs": [
    {
     "data": {
      "text/plain": [
       "Disease          0\n",
       "Symptom_1        0\n",
       "Symptom_2        0\n",
       "Symptom_3        0\n",
       "Symptom_4      348\n",
       "Symptom_5     1207\n",
       "Symptom_6     1987\n",
       "Symptom_7     2653\n",
       "Symptom_8     2977\n",
       "Symptom_9     3230\n",
       "Symptom_10    3411\n",
       "Symptom_11    3729\n",
       "Symptom_12    4179\n",
       "Symptom_13    4419\n",
       "Symptom_14    4617\n",
       "Symptom_15    4683\n",
       "Symptom_16    4731\n",
       "Symptom_17    4851\n",
       "dtype: int64"
      ]
     },
     "execution_count": 5,
     "metadata": {},
     "output_type": "execute_result"
    }
   ],
   "source": [
    "df.isna().sum()"
   ]
  },
  {
   "cell_type": "markdown",
   "metadata": {
    "papermill": {
     "duration": 0.029123,
     "end_time": "2020-11-29T11:46:57.356878",
     "exception": false,
     "start_time": "2020-11-29T11:46:57.327755",
     "status": "completed"
    },
    "tags": []
   },
   "source": [
    "**Remove the trailing space from the symptom columns**"
   ]
  },
  {
   "cell_type": "code",
   "execution_count": 6,
   "metadata": {
    "papermill": {
     "duration": 0.112887,
     "end_time": "2020-11-29T11:46:57.498816",
     "exception": false,
     "start_time": "2020-11-29T11:46:57.385929",
     "status": "completed"
    },
    "tags": []
   },
   "outputs": [
    {
     "data": {
      "text/html": [
       "<div>\n",
       "<style scoped>\n",
       "    .dataframe tbody tr th:only-of-type {\n",
       "        vertical-align: middle;\n",
       "    }\n",
       "\n",
       "    .dataframe tbody tr th {\n",
       "        vertical-align: top;\n",
       "    }\n",
       "\n",
       "    .dataframe thead th {\n",
       "        text-align: right;\n",
       "    }\n",
       "</style>\n",
       "<table border=\"1\" class=\"dataframe\">\n",
       "  <thead>\n",
       "    <tr style=\"text-align: right;\">\n",
       "      <th></th>\n",
       "      <th>Disease</th>\n",
       "      <th>Symptom_1</th>\n",
       "      <th>Symptom_2</th>\n",
       "      <th>Symptom_3</th>\n",
       "      <th>Symptom_4</th>\n",
       "      <th>Symptom_5</th>\n",
       "      <th>Symptom_6</th>\n",
       "      <th>Symptom_7</th>\n",
       "      <th>Symptom_8</th>\n",
       "      <th>Symptom_9</th>\n",
       "      <th>Symptom_10</th>\n",
       "      <th>Symptom_11</th>\n",
       "      <th>Symptom_12</th>\n",
       "      <th>Symptom_13</th>\n",
       "      <th>Symptom_14</th>\n",
       "      <th>Symptom_15</th>\n",
       "      <th>Symptom_16</th>\n",
       "      <th>Symptom_17</th>\n",
       "    </tr>\n",
       "  </thead>\n",
       "  <tbody>\n",
       "    <tr>\n",
       "      <th>0</th>\n",
       "      <td>Fungal infection</td>\n",
       "      <td>itching</td>\n",
       "      <td>skin_rash</td>\n",
       "      <td>nodal_skin_eruptions</td>\n",
       "      <td>dischromic _patches</td>\n",
       "      <td>NaN</td>\n",
       "      <td>NaN</td>\n",
       "      <td>NaN</td>\n",
       "      <td>NaN</td>\n",
       "      <td>NaN</td>\n",
       "      <td>NaN</td>\n",
       "      <td>NaN</td>\n",
       "      <td>NaN</td>\n",
       "      <td>NaN</td>\n",
       "      <td>NaN</td>\n",
       "      <td>NaN</td>\n",
       "      <td>NaN</td>\n",
       "      <td>NaN</td>\n",
       "    </tr>\n",
       "    <tr>\n",
       "      <th>1</th>\n",
       "      <td>Fungal infection</td>\n",
       "      <td>skin_rash</td>\n",
       "      <td>nodal_skin_eruptions</td>\n",
       "      <td>dischromic _patches</td>\n",
       "      <td>NaN</td>\n",
       "      <td>NaN</td>\n",
       "      <td>NaN</td>\n",
       "      <td>NaN</td>\n",
       "      <td>NaN</td>\n",
       "      <td>NaN</td>\n",
       "      <td>NaN</td>\n",
       "      <td>NaN</td>\n",
       "      <td>NaN</td>\n",
       "      <td>NaN</td>\n",
       "      <td>NaN</td>\n",
       "      <td>NaN</td>\n",
       "      <td>NaN</td>\n",
       "      <td>NaN</td>\n",
       "    </tr>\n",
       "    <tr>\n",
       "      <th>2</th>\n",
       "      <td>Fungal infection</td>\n",
       "      <td>itching</td>\n",
       "      <td>nodal_skin_eruptions</td>\n",
       "      <td>dischromic _patches</td>\n",
       "      <td>NaN</td>\n",
       "      <td>NaN</td>\n",
       "      <td>NaN</td>\n",
       "      <td>NaN</td>\n",
       "      <td>NaN</td>\n",
       "      <td>NaN</td>\n",
       "      <td>NaN</td>\n",
       "      <td>NaN</td>\n",
       "      <td>NaN</td>\n",
       "      <td>NaN</td>\n",
       "      <td>NaN</td>\n",
       "      <td>NaN</td>\n",
       "      <td>NaN</td>\n",
       "      <td>NaN</td>\n",
       "    </tr>\n",
       "    <tr>\n",
       "      <th>3</th>\n",
       "      <td>Fungal infection</td>\n",
       "      <td>itching</td>\n",
       "      <td>skin_rash</td>\n",
       "      <td>dischromic _patches</td>\n",
       "      <td>NaN</td>\n",
       "      <td>NaN</td>\n",
       "      <td>NaN</td>\n",
       "      <td>NaN</td>\n",
       "      <td>NaN</td>\n",
       "      <td>NaN</td>\n",
       "      <td>NaN</td>\n",
       "      <td>NaN</td>\n",
       "      <td>NaN</td>\n",
       "      <td>NaN</td>\n",
       "      <td>NaN</td>\n",
       "      <td>NaN</td>\n",
       "      <td>NaN</td>\n",
       "      <td>NaN</td>\n",
       "    </tr>\n",
       "    <tr>\n",
       "      <th>4</th>\n",
       "      <td>Fungal infection</td>\n",
       "      <td>itching</td>\n",
       "      <td>skin_rash</td>\n",
       "      <td>nodal_skin_eruptions</td>\n",
       "      <td>NaN</td>\n",
       "      <td>NaN</td>\n",
       "      <td>NaN</td>\n",
       "      <td>NaN</td>\n",
       "      <td>NaN</td>\n",
       "      <td>NaN</td>\n",
       "      <td>NaN</td>\n",
       "      <td>NaN</td>\n",
       "      <td>NaN</td>\n",
       "      <td>NaN</td>\n",
       "      <td>NaN</td>\n",
       "      <td>NaN</td>\n",
       "      <td>NaN</td>\n",
       "      <td>NaN</td>\n",
       "    </tr>\n",
       "  </tbody>\n",
       "</table>\n",
       "</div>"
      ],
      "text/plain": [
       "            Disease  Symptom_1             Symptom_2             Symptom_3  \\\n",
       "0  Fungal infection    itching             skin_rash  nodal_skin_eruptions   \n",
       "1  Fungal infection  skin_rash  nodal_skin_eruptions   dischromic _patches   \n",
       "2  Fungal infection    itching  nodal_skin_eruptions   dischromic _patches   \n",
       "3  Fungal infection    itching             skin_rash   dischromic _patches   \n",
       "4  Fungal infection    itching             skin_rash  nodal_skin_eruptions   \n",
       "\n",
       "             Symptom_4 Symptom_5 Symptom_6 Symptom_7 Symptom_8 Symptom_9  \\\n",
       "0  dischromic _patches       NaN       NaN       NaN       NaN       NaN   \n",
       "1                  NaN       NaN       NaN       NaN       NaN       NaN   \n",
       "2                  NaN       NaN       NaN       NaN       NaN       NaN   \n",
       "3                  NaN       NaN       NaN       NaN       NaN       NaN   \n",
       "4                  NaN       NaN       NaN       NaN       NaN       NaN   \n",
       "\n",
       "  Symptom_10 Symptom_11 Symptom_12 Symptom_13 Symptom_14 Symptom_15  \\\n",
       "0        NaN        NaN        NaN        NaN        NaN        NaN   \n",
       "1        NaN        NaN        NaN        NaN        NaN        NaN   \n",
       "2        NaN        NaN        NaN        NaN        NaN        NaN   \n",
       "3        NaN        NaN        NaN        NaN        NaN        NaN   \n",
       "4        NaN        NaN        NaN        NaN        NaN        NaN   \n",
       "\n",
       "  Symptom_16 Symptom_17  \n",
       "0        NaN        NaN  \n",
       "1        NaN        NaN  \n",
       "2        NaN        NaN  \n",
       "3        NaN        NaN  \n",
       "4        NaN        NaN  "
      ]
     },
     "execution_count": 6,
     "metadata": {},
     "output_type": "execute_result"
    }
   ],
   "source": [
    "cols = df.columns\n",
    "data = df[cols].values.flatten()\n",
    "\n",
    "s = pd.Series(data)\n",
    "s = s.str.strip()\n",
    "s = s.values.reshape(df.shape)\n",
    "\n",
    "df = pd.DataFrame(s, columns=df.columns)\n",
    "df.head()"
   ]
  },
  {
   "cell_type": "markdown",
   "metadata": {},
   "source": [
    "**Total Disease are**"
   ]
  },
  {
   "cell_type": "code",
   "execution_count": 7,
   "metadata": {
    "papermill": {
     "duration": 0.047073,
     "end_time": "2020-11-29T11:46:59.470532",
     "exception": false,
     "start_time": "2020-11-29T11:46:59.423459",
     "status": "completed"
    },
    "tags": []
   },
   "outputs": [
    {
     "data": {
      "text/plain": [
       "array(['Fungal infection', 'Allergy', 'GERD', 'Chronic cholestasis',\n",
       "       'Drug Reaction', 'Peptic ulcer diseae', 'AIDS', 'Diabetes',\n",
       "       'Gastroenteritis', 'Bronchial Asthma', 'Hypertension', 'Migraine',\n",
       "       'Cervical spondylosis', 'Paralysis (brain hemorrhage)', 'Jaundice',\n",
       "       'Malaria', 'Chicken pox', 'Dengue', 'Typhoid', 'hepatitis A',\n",
       "       'Hepatitis B', 'Hepatitis C', 'Hepatitis D', 'Hepatitis E',\n",
       "       'Alcoholic hepatitis', 'Tuberculosis', 'Common Cold', 'Pneumonia',\n",
       "       'Dimorphic hemmorhoids(piles)', 'Heart attack', 'Varicose veins',\n",
       "       'Hypothyroidism', 'Hyperthyroidism', 'Hypoglycemia',\n",
       "       'Osteoarthristis', 'Arthritis',\n",
       "       '(vertigo) Paroymsal  Positional Vertigo', 'Acne',\n",
       "       'Urinary tract infection', 'Psoriasis', 'Impetigo', 'covid'],\n",
       "      dtype=object)"
      ]
     },
     "execution_count": 7,
     "metadata": {},
     "output_type": "execute_result"
    }
   ],
   "source": [
    "df['Disease'].unique()"
   ]
  },
  {
   "cell_type": "markdown",
   "metadata": {
    "papermill": {
     "duration": 0.030493,
     "end_time": "2020-11-29T11:46:57.559697",
     "exception": false,
     "start_time": "2020-11-29T11:46:57.529204",
     "status": "completed"
    },
    "tags": []
   },
   "source": [
    "**Fill the NaN values with zero**"
   ]
  },
  {
   "cell_type": "code",
   "execution_count": 8,
   "metadata": {
    "papermill": {
     "duration": 0.074873,
     "end_time": "2020-11-29T11:46:57.664700",
     "exception": false,
     "start_time": "2020-11-29T11:46:57.589827",
     "status": "completed"
    },
    "tags": []
   },
   "outputs": [
    {
     "data": {
      "text/html": [
       "<div>\n",
       "<style scoped>\n",
       "    .dataframe tbody tr th:only-of-type {\n",
       "        vertical-align: middle;\n",
       "    }\n",
       "\n",
       "    .dataframe tbody tr th {\n",
       "        vertical-align: top;\n",
       "    }\n",
       "\n",
       "    .dataframe thead th {\n",
       "        text-align: right;\n",
       "    }\n",
       "</style>\n",
       "<table border=\"1\" class=\"dataframe\">\n",
       "  <thead>\n",
       "    <tr style=\"text-align: right;\">\n",
       "      <th></th>\n",
       "      <th>Disease</th>\n",
       "      <th>Symptom_1</th>\n",
       "      <th>Symptom_2</th>\n",
       "      <th>Symptom_3</th>\n",
       "      <th>Symptom_4</th>\n",
       "      <th>Symptom_5</th>\n",
       "      <th>Symptom_6</th>\n",
       "      <th>Symptom_7</th>\n",
       "      <th>Symptom_8</th>\n",
       "      <th>Symptom_9</th>\n",
       "      <th>Symptom_10</th>\n",
       "      <th>Symptom_11</th>\n",
       "      <th>Symptom_12</th>\n",
       "      <th>Symptom_13</th>\n",
       "      <th>Symptom_14</th>\n",
       "      <th>Symptom_15</th>\n",
       "      <th>Symptom_16</th>\n",
       "      <th>Symptom_17</th>\n",
       "    </tr>\n",
       "  </thead>\n",
       "  <tbody>\n",
       "    <tr>\n",
       "      <th>0</th>\n",
       "      <td>Fungal infection</td>\n",
       "      <td>itching</td>\n",
       "      <td>skin_rash</td>\n",
       "      <td>nodal_skin_eruptions</td>\n",
       "      <td>dischromic _patches</td>\n",
       "      <td>0</td>\n",
       "      <td>0</td>\n",
       "      <td>0</td>\n",
       "      <td>0</td>\n",
       "      <td>0</td>\n",
       "      <td>0</td>\n",
       "      <td>0</td>\n",
       "      <td>0</td>\n",
       "      <td>0</td>\n",
       "      <td>0</td>\n",
       "      <td>0</td>\n",
       "      <td>0</td>\n",
       "      <td>0</td>\n",
       "    </tr>\n",
       "    <tr>\n",
       "      <th>1</th>\n",
       "      <td>Fungal infection</td>\n",
       "      <td>skin_rash</td>\n",
       "      <td>nodal_skin_eruptions</td>\n",
       "      <td>dischromic _patches</td>\n",
       "      <td>0</td>\n",
       "      <td>0</td>\n",
       "      <td>0</td>\n",
       "      <td>0</td>\n",
       "      <td>0</td>\n",
       "      <td>0</td>\n",
       "      <td>0</td>\n",
       "      <td>0</td>\n",
       "      <td>0</td>\n",
       "      <td>0</td>\n",
       "      <td>0</td>\n",
       "      <td>0</td>\n",
       "      <td>0</td>\n",
       "      <td>0</td>\n",
       "    </tr>\n",
       "    <tr>\n",
       "      <th>2</th>\n",
       "      <td>Fungal infection</td>\n",
       "      <td>itching</td>\n",
       "      <td>nodal_skin_eruptions</td>\n",
       "      <td>dischromic _patches</td>\n",
       "      <td>0</td>\n",
       "      <td>0</td>\n",
       "      <td>0</td>\n",
       "      <td>0</td>\n",
       "      <td>0</td>\n",
       "      <td>0</td>\n",
       "      <td>0</td>\n",
       "      <td>0</td>\n",
       "      <td>0</td>\n",
       "      <td>0</td>\n",
       "      <td>0</td>\n",
       "      <td>0</td>\n",
       "      <td>0</td>\n",
       "      <td>0</td>\n",
       "    </tr>\n",
       "    <tr>\n",
       "      <th>3</th>\n",
       "      <td>Fungal infection</td>\n",
       "      <td>itching</td>\n",
       "      <td>skin_rash</td>\n",
       "      <td>dischromic _patches</td>\n",
       "      <td>0</td>\n",
       "      <td>0</td>\n",
       "      <td>0</td>\n",
       "      <td>0</td>\n",
       "      <td>0</td>\n",
       "      <td>0</td>\n",
       "      <td>0</td>\n",
       "      <td>0</td>\n",
       "      <td>0</td>\n",
       "      <td>0</td>\n",
       "      <td>0</td>\n",
       "      <td>0</td>\n",
       "      <td>0</td>\n",
       "      <td>0</td>\n",
       "    </tr>\n",
       "    <tr>\n",
       "      <th>4</th>\n",
       "      <td>Fungal infection</td>\n",
       "      <td>itching</td>\n",
       "      <td>skin_rash</td>\n",
       "      <td>nodal_skin_eruptions</td>\n",
       "      <td>0</td>\n",
       "      <td>0</td>\n",
       "      <td>0</td>\n",
       "      <td>0</td>\n",
       "      <td>0</td>\n",
       "      <td>0</td>\n",
       "      <td>0</td>\n",
       "      <td>0</td>\n",
       "      <td>0</td>\n",
       "      <td>0</td>\n",
       "      <td>0</td>\n",
       "      <td>0</td>\n",
       "      <td>0</td>\n",
       "      <td>0</td>\n",
       "    </tr>\n",
       "  </tbody>\n",
       "</table>\n",
       "</div>"
      ],
      "text/plain": [
       "            Disease  Symptom_1             Symptom_2             Symptom_3  \\\n",
       "0  Fungal infection    itching             skin_rash  nodal_skin_eruptions   \n",
       "1  Fungal infection  skin_rash  nodal_skin_eruptions   dischromic _patches   \n",
       "2  Fungal infection    itching  nodal_skin_eruptions   dischromic _patches   \n",
       "3  Fungal infection    itching             skin_rash   dischromic _patches   \n",
       "4  Fungal infection    itching             skin_rash  nodal_skin_eruptions   \n",
       "\n",
       "             Symptom_4 Symptom_5 Symptom_6 Symptom_7 Symptom_8 Symptom_9  \\\n",
       "0  dischromic _patches         0         0         0         0         0   \n",
       "1                    0         0         0         0         0         0   \n",
       "2                    0         0         0         0         0         0   \n",
       "3                    0         0         0         0         0         0   \n",
       "4                    0         0         0         0         0         0   \n",
       "\n",
       "  Symptom_10 Symptom_11 Symptom_12 Symptom_13 Symptom_14 Symptom_15  \\\n",
       "0          0          0          0          0          0          0   \n",
       "1          0          0          0          0          0          0   \n",
       "2          0          0          0          0          0          0   \n",
       "3          0          0          0          0          0          0   \n",
       "4          0          0          0          0          0          0   \n",
       "\n",
       "  Symptom_16 Symptom_17  \n",
       "0          0          0  \n",
       "1          0          0  \n",
       "2          0          0  \n",
       "3          0          0  \n",
       "4          0          0  "
      ]
     },
     "execution_count": 8,
     "metadata": {},
     "output_type": "execute_result"
    }
   ],
   "source": [
    "df = df.fillna(0)\n",
    "df.head()"
   ]
  },
  {
   "cell_type": "markdown",
   "metadata": {
    "papermill": {
     "duration": 0.032795,
     "end_time": "2020-11-29T11:46:58.012791",
     "exception": false,
     "start_time": "2020-11-29T11:46:57.979996",
     "status": "completed"
    },
    "tags": []
   },
   "source": [
    "**Encode symptoms in the data with the symptom rank**"
   ]
  },
  {
   "cell_type": "code",
   "execution_count": 9,
   "metadata": {
    "papermill": {
     "duration": 0.812057,
     "end_time": "2020-11-29T11:46:58.857378",
     "exception": false,
     "start_time": "2020-11-29T11:46:58.045321",
     "status": "completed"
    },
    "tags": []
   },
   "outputs": [],
   "source": [
    "from sklearn.preprocessing import LabelEncoder\n",
    "le = LabelEncoder()\n",
    "for column in df.columns:\n",
    "    df[column] = le.fit_transform(df[column].astype(str))"
   ]
  },
  {
   "cell_type": "markdown",
   "metadata": {
    "papermill": {
     "duration": 0.033012,
     "end_time": "2020-11-29T11:46:58.923756",
     "exception": false,
     "start_time": "2020-11-29T11:46:58.890744",
     "status": "completed"
    },
    "tags": []
   },
   "source": [
    "**Plot the dataset attribute with each other**"
   ]
  },
  {
   "cell_type": "code",
   "execution_count": 10,
   "metadata": {
    "papermill": {
     "duration": 0.117311,
     "end_time": "2020-11-29T11:46:59.074386",
     "exception": false,
     "start_time": "2020-11-29T11:46:58.957075",
     "status": "completed"
    },
    "tags": []
   },
   "outputs": [
    {
     "data": {
      "image/png": "[encoded data removed]",
      "text/plain": [
       "<Figure size 1080x3240 with 18 Axes>"
      ]
     },
     "metadata": {
      "needs_background": "light"
     },
     "output_type": "display_data"
    }
   ],
   "source": [
    "import matplotlib.pyplot as plt\n",
    "\n",
    "plt.figure(figsize=(15,45))\n",
    "\n",
    "plot_count = 1\n",
    "for feature in list(df.columns):\n",
    "    plt.subplot(11,3,plot_count)\n",
    "    plt.scatter(df[feature], df['Disease'])\n",
    "    plt.xlabel(feature.replace('_',' ').title())\n",
    "    plt.ylabel('Disease')\n",
    "    plot_count+=1\n",
    "    \n",
    "plt.show()"
   ]
  },
  {
   "cell_type": "markdown",
   "metadata": {
    "papermill": {
     "duration": 0.03364,
     "end_time": "2020-11-29T11:46:59.143074",
     "exception": false,
     "start_time": "2020-11-29T11:46:59.109434",
     "status": "completed"
    },
    "tags": []
   },
   "source": [
    "**Check if entire columns have zero values so we can drop those values**"
   ]
  },
  {
   "cell_type": "code",
   "execution_count": 11,
   "metadata": {
    "papermill": {
     "duration": 0.052109,
     "end_time": "2020-11-29T11:46:59.229391",
     "exception": false,
     "start_time": "2020-11-29T11:46:59.177282",
     "status": "completed"
    },
    "tags": []
   },
   "outputs": [
    {
     "data": {
      "text/plain": [
       "Disease       False\n",
       "Symptom_1     False\n",
       "Symptom_2     False\n",
       "Symptom_3     False\n",
       "Symptom_4     False\n",
       "Symptom_5     False\n",
       "Symptom_6     False\n",
       "Symptom_7     False\n",
       "Symptom_8     False\n",
       "Symptom_9     False\n",
       "Symptom_10    False\n",
       "Symptom_11    False\n",
       "Symptom_12    False\n",
       "Symptom_13    False\n",
       "Symptom_14    False\n",
       "Symptom_15    False\n",
       "Symptom_16    False\n",
       "Symptom_17    False\n",
       "dtype: bool"
      ]
     },
     "execution_count": 11,
     "metadata": {},
     "output_type": "execute_result"
    }
   ],
   "source": [
    "(df[cols] == 0).all()"
   ]
  },
  {
   "cell_type": "markdown",
   "metadata": {
    "papermill": {
     "duration": 0.03555,
     "end_time": "2020-11-29T11:46:59.542085",
     "exception": false,
     "start_time": "2020-11-29T11:46:59.506535",
     "status": "completed"
    },
    "tags": []
   },
   "source": [
    "**Select the features as symptoms column and label as Disease column**"
   ]
  },
  {
   "cell_type": "code",
   "execution_count": 12,
   "metadata": {
    "papermill": {
     "duration": 0.045804,
     "end_time": "2020-11-29T11:46:59.623757",
     "exception": false,
     "start_time": "2020-11-29T11:46:59.577953",
     "status": "completed"
    },
    "tags": []
   },
   "outputs": [],
   "source": [
    "data = df.iloc[:,1:].values\n",
    "labels = df['Disease'].values"
   ]
  },
  {
   "cell_type": "markdown",
   "metadata": {
    "papermill": {
     "duration": 0.036059,
     "end_time": "2020-11-29T11:46:59.696096",
     "exception": false,
     "start_time": "2020-11-29T11:46:59.660037",
     "status": "completed"
    },
    "tags": []
   },
   "source": [
    "**Split the data, labels with shuffle**"
   ]
  },
  {
   "cell_type": "code",
   "execution_count": 13,
   "metadata": {
    "papermill": {
     "duration": 0.049148,
     "end_time": "2020-11-29T11:46:59.781495",
     "exception": false,
     "start_time": "2020-11-29T11:46:59.732347",
     "status": "completed"
    },
    "tags": []
   },
   "outputs": [
    {
     "name": "stdout",
     "output_type": "stream",
     "text": [
      "(4184, 17) (739, 17) (4184,) (739,)\n"
     ]
    }
   ],
   "source": [
    "x_train, x_test, y_train, y_test = train_test_split(data, labels, shuffle=True, train_size = 0.85)\n",
    "print(x_train.shape, x_test.shape, y_train.shape, y_test.shape)"
   ]
  },
  {
   "cell_type": "markdown",
   "metadata": {
    "papermill": {
     "duration": 0.038379,
     "end_time": "2020-11-29T11:46:59.859412",
     "exception": false,
     "start_time": "2020-11-29T11:46:59.821033",
     "status": "completed"
    },
    "tags": []
   },
   "source": [
    "**Initialize and train a Support vector classifier**"
   ]
  },
  {
   "cell_type": "code",
   "execution_count": 14,
   "metadata": {
    "papermill": {
     "duration": 0.269224,
     "end_time": "2020-11-29T11:47:00.167367",
     "exception": false,
     "start_time": "2020-11-29T11:46:59.898143",
     "status": "completed"
    },
    "tags": []
   },
   "outputs": [
    {
     "data": {
      "text/plain": [
       "SVC()"
      ]
     },
     "execution_count": 14,
     "metadata": {},
     "output_type": "execute_result"
    }
   ],
   "source": [
    "model = SVC()\n",
    "model.fit(x_train, y_train)"
   ]
  },
  {
   "cell_type": "markdown",
   "metadata": {
    "papermill": {
     "duration": 0.038791,
     "end_time": "2020-11-29T11:47:00.244262",
     "exception": false,
     "start_time": "2020-11-29T11:47:00.205471",
     "status": "completed"
    },
    "tags": []
   },
   "source": [
    "**Throw predictions**"
   ]
  },
  {
   "cell_type": "code",
   "execution_count": 15,
   "metadata": {
    "papermill": {
     "duration": 0.186959,
     "end_time": "2020-11-29T11:47:00.469757",
     "exception": false,
     "start_time": "2020-11-29T11:47:00.282798",
     "status": "completed"
    },
    "tags": []
   },
   "outputs": [],
   "source": [
    "preds = model.predict(x_test)"
   ]
  },
  {
   "cell_type": "markdown",
   "metadata": {
    "papermill": {
     "duration": 0.037086,
     "end_time": "2020-11-29T11:47:00.544760",
     "exception": false,
     "start_time": "2020-11-29T11:47:00.507674",
     "status": "completed"
    },
    "tags": []
   },
   "source": [
    "**Plot the confusion matrix for 25 diseases and calculate f1, accuracy**"
   ]
  },
  {
   "cell_type": "code",
   "execution_count": 16,
   "metadata": {
    "papermill": {
     "duration": 0.593861,
     "end_time": "2020-11-29T11:47:01.176027",
     "exception": false,
     "start_time": "2020-11-29T11:47:00.582166",
     "status": "completed"
    },
    "tags": []
   },
   "outputs": [
    {
     "name": "stdout",
     "output_type": "stream",
     "text": [
      "F1-score% = 92.42967792825483 | Accuracy% = 94.72259810554804\n"
     ]
    },
    {
     "data": {
      "text/plain": [
       "<AxesSubplot:>"
      ]
     },
     "execution_count": 16,
     "metadata": {},
     "output_type": "execute_result"
    },
    {
     "data": {
      "image/png": "[encoded data removed]",
      "text/plain": [
       "<Figure size 432x288 with 2 Axes>"
      ]
     },
     "metadata": {
      "needs_background": "light"
     },
     "output_type": "display_data"
    }
   ],
   "source": [
    "conf_mat = confusion_matrix(y_test, preds)\n",
    "df_cm = pd.DataFrame(conf_mat, index=df['Disease'].unique(), columns=df['Disease'].unique())\n",
    "print('F1-score% =', f1_score(y_test, preds, average='macro')*100, '|', 'Accuracy% =', accuracy_score(y_test, preds)*100)\n",
    "sns.heatmap(df_cm)"
   ]
  },
  {
   "cell_type": "markdown",
   "metadata": {},
   "source": [
    "**Now by using Naive Bayes classfier**"
   ]
  },
  {
   "cell_type": "code",
   "execution_count": 19,
   "metadata": {},
   "outputs": [
    {
     "name": "stdout",
     "output_type": "stream",
     "text": [
      "F1-score% = 84.45298953653445 | Accuracy% = 85.65629228687416\n"
     ]
    },
    {
     "data": {
      "text/plain": [
       "<AxesSubplot:>"
      ]
     },
     "execution_count": 19,
     "metadata": {},
     "output_type": "execute_result"
    },
    {
     "data": {
      "image/png": "[encoded data removed]",
      "text/plain": [
       "<Figure size 432x288 with 2 Axes>"
      ]
     },
     "metadata": {
      "needs_background": "light"
     },
     "output_type": "display_data"
    }
   ],
   "source": [
    "from  sklearn.naive_bayes import GaussianNB\n",
    "model = GaussianNB()\n",
    "model.fit(x_train, y_train)\n",
    "preds = model.predict(x_test)\n",
    "conf_mat = confusion_matrix(y_test, preds)\n",
    "df_cm = pd.DataFrame(conf_mat, index=df['Disease'].unique(), columns=df['Disease'].unique())\n",
    "print('F1-score% =', f1_score(y_test, preds, average='macro')*100, '|', 'Accuracy% =', accuracy_score(y_test, preds)*100)\n",
    "sns.heatmap(df_cm)"
   ]
  },
  {
   "cell_type": "markdown",
   "metadata": {},
   "source": [
    "# Testing "
   ]
  },
  {
   "cell_type": "markdown",
   "metadata": {},
   "source": [
    "**Reading dataset of disease**"
   ]
  },
  {
   "cell_type": "code",
   "execution_count": 1,
   "metadata": {},
   "outputs": [],
   "source": [
    "# read the dataset\n",
    "import pandas as pd\n",
    "import numpy as np\n",
    "# let assume the patient have the following symptoms\n",
    "df = pd.read_csv(\"data/disease_dataset.csv\")"
   ]
  },
  {
   "cell_type": "markdown",
   "metadata": {},
   "source": [
    "**remove all the spaces**"
   ]
  },
  {
   "cell_type": "code",
   "execution_count": 2,
   "metadata": {},
   "outputs": [],
   "source": [
    "cols = df.columns\n",
    "data = df[cols].values.flatten()\n",
    "\n",
    "s = pd.Series(data)\n",
    "s = s.str.strip()\n",
    "s = s.values.reshape(df.shape)\n",
    "\n",
    "df = pd.DataFrame(s, columns=df.columns)"
   ]
  },
  {
   "cell_type": "markdown",
   "metadata": {},
   "source": [
    "**Input and compare**"
   ]
  },
  {
   "cell_type": "code",
   "execution_count": 3,
   "metadata": {},
   "outputs": [
    {
     "name": "stdin",
     "output_type": "stream",
     "text": [
      "['itching', 'skin_rash', 'continuous_sneezing', 'shivering', 'stomach_pain', 'acidity', 'vomiting', 'indigestion', 'muscle_wasting', 'patches_in_throat', 'fatigue', 'weight_loss', 'sunken_eyes', 'cough', 'headache', 'chest_pain', 'back_pain', 'weakness_in_limbs', 'chills', 'joint_pain', 'yellowish_skin', 'constipation', 'pain_during_bowel_movements', 'breathlessness', 'cramps', 'weight_gain', 'mood_swings', 'neck_pain', 'muscle_weakness', 'stiff_neck', 'pus_filled_pimples', 'burning_micturition', 'bladder_discomfort', 'high_fever', 'Tiredness'] Tiredness\\\n"
     ]
    },
    {
     "name": "stdout",
     "output_type": "stream",
     "text": [
      "                                      Disease            Symptom_1  \\\n",
      "0                            Fungal infection              itching   \n",
      "1                            Fungal infection            skin_rash   \n",
      "2                            Fungal infection              itching   \n",
      "3                            Fungal infection              itching   \n",
      "4                            Fungal infection              itching   \n",
      "5                            Fungal infection            skin_rash   \n",
      "6                            Fungal infection              itching   \n",
      "7                            Fungal infection              itching   \n",
      "8                            Fungal infection              itching   \n",
      "9                            Fungal infection              itching   \n",
      "10                                    Allergy  continuous_sneezing   \n",
      "11                                    Allergy            shivering   \n",
      "12                                    Allergy  continuous_sneezing   \n",
      "13                                    Allergy  continuous_sneezing   \n",
      "14                                    Allergy  continuous_sneezing   \n",
      "15                                    Allergy            shivering   \n",
      "16                                    Allergy  continuous_sneezing   \n",
      "17                                    Allergy  continuous_sneezing   \n",
      "18                                    Allergy  continuous_sneezing   \n",
      "19                                    Allergy  continuous_sneezing   \n",
      "20                                       GERD         stomach_pain   \n",
      "21                                       GERD         stomach_pain   \n",
      "22                                       GERD         stomach_pain   \n",
      "23                                       GERD         stomach_pain   \n",
      "24                                       GERD         stomach_pain   \n",
      "25                                       GERD         stomach_pain   \n",
      "26                                       GERD              acidity   \n",
      "27                                       GERD         stomach_pain   \n",
      "28                                       GERD         stomach_pain   \n",
      "29                                       GERD         stomach_pain   \n",
      "...                                       ...                  ...   \n",
      "4893                                 Jaundice              itching   \n",
      "4894                                  Malaria               chills   \n",
      "4895                              Chicken pox              itching   \n",
      "4896                                   Dengue            skin_rash   \n",
      "4897                                  Typhoid               chills   \n",
      "4898                              hepatitis A           joint_pain   \n",
      "4899                              Hepatitis B              itching   \n",
      "4900                              Hepatitis C              fatigue   \n",
      "4901                              Hepatitis D           joint_pain   \n",
      "4902                              Hepatitis E           joint_pain   \n",
      "4903                      Alcoholic hepatitis             vomiting   \n",
      "4904                             Tuberculosis               chills   \n",
      "4905                              Common Cold  continuous_sneezing   \n",
      "4906                                Pneumonia               chills   \n",
      "4907             Dimorphic hemmorhoids(piles)         constipation   \n",
      "4908                             Heart attack             vomiting   \n",
      "4909                           Varicose veins              fatigue   \n",
      "4910                           Hypothyroidism              fatigue   \n",
      "4911                          Hyperthyroidism              fatigue   \n",
      "4912                             Hypoglycemia             vomiting   \n",
      "4913                          Osteoarthristis           joint_pain   \n",
      "4914                                Arthritis      muscle_weakness   \n",
      "4915  (vertigo) Paroymsal  Positional Vertigo             vomiting   \n",
      "4916                                     Acne            skin_rash   \n",
      "4917                  Urinary tract infection  burning_micturition   \n",
      "4918                                Psoriasis            skin_rash   \n",
      "4919                                 Impetigo            skin_rash   \n",
      "4920                                    covid           high_fever   \n",
      "4921                                    covid           high_fever   \n",
      "4922                                    covid            Tiredness   \n",
      "\n",
      "                        Symptom_2                Symptom_3  \\\n",
      "0                       skin_rash     nodal_skin_eruptions   \n",
      "1            nodal_skin_eruptions      dischromic _patches   \n",
      "2            nodal_skin_eruptions      dischromic _patches   \n",
      "3                       skin_rash      dischromic _patches   \n",
      "4                       skin_rash     nodal_skin_eruptions   \n",
      "5            nodal_skin_eruptions      dischromic _patches   \n",
      "6            nodal_skin_eruptions      dischromic _patches   \n",
      "7                       skin_rash      dischromic _patches   \n",
      "8                       skin_rash     nodal_skin_eruptions   \n",
      "9                       skin_rash     nodal_skin_eruptions   \n",
      "10                      shivering                   chills   \n",
      "11                         chills       watering_from_eyes   \n",
      "12                         chills       watering_from_eyes   \n",
      "13                      shivering       watering_from_eyes   \n",
      "14                      shivering                   chills   \n",
      "15                         chills       watering_from_eyes   \n",
      "16                         chills       watering_from_eyes   \n",
      "17                      shivering       watering_from_eyes   \n",
      "18                      shivering                   chills   \n",
      "19                      shivering                   chills   \n",
      "20                        acidity         ulcers_on_tongue   \n",
      "21               ulcers_on_tongue                 vomiting   \n",
      "22                        acidity                 vomiting   \n",
      "23                        acidity         ulcers_on_tongue   \n",
      "24                        acidity         ulcers_on_tongue   \n",
      "25                        acidity         ulcers_on_tongue   \n",
      "26               ulcers_on_tongue                 vomiting   \n",
      "27               ulcers_on_tongue                 vomiting   \n",
      "28                        acidity                 vomiting   \n",
      "29                        acidity         ulcers_on_tongue   \n",
      "...                           ...                      ...   \n",
      "4893                     vomiting                  fatigue   \n",
      "4894                     vomiting               high_fever   \n",
      "4895                    skin_rash                  fatigue   \n",
      "4896                       chills               joint_pain   \n",
      "4897                     vomiting                  fatigue   \n",
      "4898                     vomiting           yellowish_skin   \n",
      "4899                      fatigue                 lethargy   \n",
      "4900               yellowish_skin                   nausea   \n",
      "4901                     vomiting                  fatigue   \n",
      "4902                     vomiting                  fatigue   \n",
      "4903               yellowish_skin           abdominal_pain   \n",
      "4904                     vomiting                  fatigue   \n",
      "4905                       chills                  fatigue   \n",
      "4906                      fatigue                    cough   \n",
      "4907  pain_during_bowel_movements      pain_in_anal_region   \n",
      "4908               breathlessness                 sweating   \n",
      "4909                       cramps                 bruising   \n",
      "4910                  weight_gain     cold_hands_and_feets   \n",
      "4911                  mood_swings              weight_loss   \n",
      "4912                      fatigue                  anxiety   \n",
      "4913                    neck_pain                knee_pain   \n",
      "4914                   stiff_neck          swelling_joints   \n",
      "4915                     headache                   nausea   \n",
      "4916           pus_filled_pimples               blackheads   \n",
      "4917           bladder_discomfort      foul_smell_of urine   \n",
      "4918                   joint_pain             skin_peeling   \n",
      "4919                   high_fever                  blister   \n",
      "4920                    Tiredness                Dry-Cough   \n",
      "4921                    Tiredness                Dry-Cough   \n",
      "4922                    Dry-Cough  Difficulty-in-Breathing   \n",
      "\n",
      "                     Symptom_4              Symptom_5  \\\n",
      "0          dischromic _patches                    NaN   \n",
      "1                          NaN                    NaN   \n",
      "2                          NaN                    NaN   \n",
      "3                          NaN                    NaN   \n",
      "4                          NaN                    NaN   \n",
      "5                          NaN                    NaN   \n",
      "6                          NaN                    NaN   \n",
      "7                          NaN                    NaN   \n",
      "8                          NaN                    NaN   \n",
      "9          dischromic _patches                    NaN   \n",
      "10          watering_from_eyes                    NaN   \n",
      "11                         NaN                    NaN   \n",
      "12                         NaN                    NaN   \n",
      "13                         NaN                    NaN   \n",
      "14                         NaN                    NaN   \n",
      "15                         NaN                    NaN   \n",
      "16                         NaN                    NaN   \n",
      "17                         NaN                    NaN   \n",
      "18                         NaN                    NaN   \n",
      "19          watering_from_eyes                    NaN   \n",
      "20                    vomiting                  cough   \n",
      "21                       cough             chest_pain   \n",
      "22                       cough             chest_pain   \n",
      "23                       cough             chest_pain   \n",
      "24                    vomiting             chest_pain   \n",
      "25                    vomiting                  cough   \n",
      "26                       cough             chest_pain   \n",
      "27                       cough             chest_pain   \n",
      "28                       cough             chest_pain   \n",
      "29                       cough             chest_pain   \n",
      "...                        ...                    ...   \n",
      "4893               weight_loss             high_fever   \n",
      "4894                  sweating               headache   \n",
      "4895                  lethargy             high_fever   \n",
      "4896                  vomiting                fatigue   \n",
      "4897                high_fever               headache   \n",
      "4898                dark_urine                 nausea   \n",
      "4899            yellowish_skin             dark_urine   \n",
      "4900          loss_of_appetite      yellowing_of_eyes   \n",
      "4901            yellowish_skin             dark_urine   \n",
      "4902                high_fever         yellowish_skin   \n",
      "4903       swelling_of_stomach  distention_of_abdomen   \n",
      "4904               weight_loss                  cough   \n",
      "4905                     cough             high_fever   \n",
      "4906                high_fever         breathlessness   \n",
      "4907              bloody_stool     irritation_in_anus   \n",
      "4908                chest_pain                    NaN   \n",
      "4909                   obesity           swollen_legs   \n",
      "4910               mood_swings               lethargy   \n",
      "4911              restlessness               sweating   \n",
      "4912                  sweating               headache   \n",
      "4913            hip_joint_pain        swelling_joints   \n",
      "4914        movement_stiffness        painful_walking   \n",
      "4915        spinning_movements        loss_of_balance   \n",
      "4916                  scurring                    NaN   \n",
      "4917  continuous_feel_of_urine                    NaN   \n",
      "4918       silver_like_dusting   small_dents_in_nails   \n",
      "4919      red_sore_around_nose      yellow_crust_ooze   \n",
      "4920   Difficulty-in-Breathing            sore_throat   \n",
      "4921   Difficulty-in-Breathing                    NaN   \n",
      "4922               sore_throat                  pains   \n",
      "\n",
      "                           Symptom_6                     Symptom_7  \\\n",
      "0                                NaN                           NaN   \n",
      "1                                NaN                           NaN   \n",
      "2                                NaN                           NaN   \n",
      "3                                NaN                           NaN   \n",
      "4                                NaN                           NaN   \n",
      "5                                NaN                           NaN   \n",
      "6                                NaN                           NaN   \n",
      "7                                NaN                           NaN   \n",
      "8                                NaN                           NaN   \n",
      "9                                NaN                           NaN   \n",
      "10                               NaN                           NaN   \n",
      "11                               NaN                           NaN   \n",
      "12                               NaN                           NaN   \n",
      "13                               NaN                           NaN   \n",
      "14                               NaN                           NaN   \n",
      "15                               NaN                           NaN   \n",
      "16                               NaN                           NaN   \n",
      "17                               NaN                           NaN   \n",
      "18                               NaN                           NaN   \n",
      "19                               NaN                           NaN   \n",
      "20                        chest_pain                           NaN   \n",
      "21                               NaN                           NaN   \n",
      "22                               NaN                           NaN   \n",
      "23                               NaN                           NaN   \n",
      "24                               NaN                           NaN   \n",
      "25                               NaN                           NaN   \n",
      "26                               NaN                           NaN   \n",
      "27                               NaN                           NaN   \n",
      "28                               NaN                           NaN   \n",
      "29                               NaN                           NaN   \n",
      "...                              ...                           ...   \n",
      "4893                  yellowish_skin                    dark_urine   \n",
      "4894                          nausea                     diarrhoea   \n",
      "4895                        headache              loss_of_appetite   \n",
      "4896                      high_fever                      headache   \n",
      "4897                          nausea                  constipation   \n",
      "4898                loss_of_appetite                abdominal_pain   \n",
      "4899                loss_of_appetite                abdominal_pain   \n",
      "4900                  family_history                           NaN   \n",
      "4901                          nausea              loss_of_appetite   \n",
      "4902                      dark_urine                        nausea   \n",
      "4903  history_of_alcohol_consumption                fluid_overload   \n",
      "4904                      high_fever                breathlessness   \n",
      "4905                        headache           swelled_lymph_nodes   \n",
      "4906                        sweating                       malaise   \n",
      "4907                             NaN                           NaN   \n",
      "4908                             NaN                           NaN   \n",
      "4909           swollen_blood_vessels       prominent_veins_on_calf   \n",
      "4910                       dizziness           puffy_face_and_eyes   \n",
      "4911                       diarrhoea               fast_heart_rate   \n",
      "4912                          nausea  blurred_and_distorted_vision   \n",
      "4913                 painful_walking                           NaN   \n",
      "4914                             NaN                           NaN   \n",
      "4915                    unsteadiness                           NaN   \n",
      "4916                             NaN                           NaN   \n",
      "4917                             NaN                           NaN   \n",
      "4918              inflammatory_nails                           NaN   \n",
      "4919                             NaN                           NaN   \n",
      "4920                           pains              Nasal_Congestion   \n",
      "4921                             NaN                           NaN   \n",
      "4922                Nasal_Congestion                    Runny_Nose   \n",
      "\n",
      "             Symptom_8                 Symptom_9            Symptom_10  \\\n",
      "0                  NaN                       NaN                   NaN   \n",
      "1                  NaN                       NaN                   NaN   \n",
      "2                  NaN                       NaN                   NaN   \n",
      "3                  NaN                       NaN                   NaN   \n",
      "4                  NaN                       NaN                   NaN   \n",
      "5                  NaN                       NaN                   NaN   \n",
      "6                  NaN                       NaN                   NaN   \n",
      "7                  NaN                       NaN                   NaN   \n",
      "8                  NaN                       NaN                   NaN   \n",
      "9                  NaN                       NaN                   NaN   \n",
      "10                 NaN                       NaN                   NaN   \n",
      "11                 NaN                       NaN                   NaN   \n",
      "12                 NaN                       NaN                   NaN   \n",
      "13                 NaN                       NaN                   NaN   \n",
      "14                 NaN                       NaN                   NaN   \n",
      "15                 NaN                       NaN                   NaN   \n",
      "16                 NaN                       NaN                   NaN   \n",
      "17                 NaN                       NaN                   NaN   \n",
      "18                 NaN                       NaN                   NaN   \n",
      "19                 NaN                       NaN                   NaN   \n",
      "20                 NaN                       NaN                   NaN   \n",
      "21                 NaN                       NaN                   NaN   \n",
      "22                 NaN                       NaN                   NaN   \n",
      "23                 NaN                       NaN                   NaN   \n",
      "24                 NaN                       NaN                   NaN   \n",
      "25                 NaN                       NaN                   NaN   \n",
      "26                 NaN                       NaN                   NaN   \n",
      "27                 NaN                       NaN                   NaN   \n",
      "28                 NaN                       NaN                   NaN   \n",
      "29                 NaN                       NaN                   NaN   \n",
      "...                ...                       ...                   ...   \n",
      "4893    abdominal_pain                       NaN                   NaN   \n",
      "4894       muscle_pain                       NaN                   NaN   \n",
      "4895        mild_fever       swelled_lymph_nodes               malaise   \n",
      "4896            nausea          loss_of_appetite  pain_behind_the_eyes   \n",
      "4897    abdominal_pain                 diarrhoea   toxic_look_(typhos)   \n",
      "4898         diarrhoea                mild_fever     yellowing_of_eyes   \n",
      "4899      yellow_urine         yellowing_of_eyes               malaise   \n",
      "4900               NaN                       NaN                   NaN   \n",
      "4901    abdominal_pain         yellowing_of_eyes                   NaN   \n",
      "4902  loss_of_appetite            abdominal_pain     yellowing_of_eyes   \n",
      "4903               NaN                       NaN                   NaN   \n",
      "4904          sweating          loss_of_appetite            mild_fever   \n",
      "4905           malaise                    phlegm     throat_irritation   \n",
      "4906            phlegm                chest_pain       fast_heart_rate   \n",
      "4907               NaN                       NaN                   NaN   \n",
      "4908               NaN                       NaN                   NaN   \n",
      "4909               NaN                       NaN                   NaN   \n",
      "4910  enlarged_thyroid             brittle_nails   swollen_extremeties   \n",
      "4911  excessive_hunger           muscle_weakness          irritability   \n",
      "4912  excessive_hunger  drying_and_tingling_lips        slurred_speech   \n",
      "4913               NaN                       NaN                   NaN   \n",
      "4914               NaN                       NaN                   NaN   \n",
      "4915               NaN                       NaN                   NaN   \n",
      "4916               NaN                       NaN                   NaN   \n",
      "4917               NaN                       NaN                   NaN   \n",
      "4918               NaN                       NaN                   NaN   \n",
      "4919               NaN                       NaN                   NaN   \n",
      "4920        Runny_Nose                  Diarrhea                   NaN   \n",
      "4921               NaN                       NaN                   NaN   \n",
      "4922          Diarrhea                       NaN                   NaN   \n",
      "\n",
      "                       Symptom_11                      Symptom_12  \\\n",
      "0                             NaN                             NaN   \n",
      "1                             NaN                             NaN   \n",
      "2                             NaN                             NaN   \n",
      "3                             NaN                             NaN   \n",
      "4                             NaN                             NaN   \n",
      "5                             NaN                             NaN   \n",
      "6                             NaN                             NaN   \n",
      "7                             NaN                             NaN   \n",
      "8                             NaN                             NaN   \n",
      "9                             NaN                             NaN   \n",
      "10                            NaN                             NaN   \n",
      "11                            NaN                             NaN   \n",
      "12                            NaN                             NaN   \n",
      "13                            NaN                             NaN   \n",
      "14                            NaN                             NaN   \n",
      "15                            NaN                             NaN   \n",
      "16                            NaN                             NaN   \n",
      "17                            NaN                             NaN   \n",
      "18                            NaN                             NaN   \n",
      "19                            NaN                             NaN   \n",
      "20                            NaN                             NaN   \n",
      "21                            NaN                             NaN   \n",
      "22                            NaN                             NaN   \n",
      "23                            NaN                             NaN   \n",
      "24                            NaN                             NaN   \n",
      "25                            NaN                             NaN   \n",
      "26                            NaN                             NaN   \n",
      "27                            NaN                             NaN   \n",
      "28                            NaN                             NaN   \n",
      "29                            NaN                             NaN   \n",
      "...                           ...                             ...   \n",
      "4893                          NaN                             NaN   \n",
      "4894                          NaN                             NaN   \n",
      "4895          red_spots_over_body                             NaN   \n",
      "4896                    back_pain                         malaise   \n",
      "4897                   belly_pain                             NaN   \n",
      "4898                  muscle_pain                             NaN   \n",
      "4899  receiving_blood_transfusion  receiving_unsterile_injections   \n",
      "4900                          NaN                             NaN   \n",
      "4901                          NaN                             NaN   \n",
      "4902          acute_liver_failure                            coma   \n",
      "4903                          NaN                             NaN   \n",
      "4904            yellowing_of_eyes             swelled_lymph_nodes   \n",
      "4905              redness_of_eyes                  sinus_pressure   \n",
      "4906                 rusty_sputum                             NaN   \n",
      "4907                          NaN                             NaN   \n",
      "4908                          NaN                             NaN   \n",
      "4909                          NaN                             NaN   \n",
      "4910                   depression                    irritability   \n",
      "4911        abnormal_menstruation                             NaN   \n",
      "4912                 irritability                    palpitations   \n",
      "4913                          NaN                             NaN   \n",
      "4914                          NaN                             NaN   \n",
      "4915                          NaN                             NaN   \n",
      "4916                          NaN                             NaN   \n",
      "4917                          NaN                             NaN   \n",
      "4918                          NaN                             NaN   \n",
      "4919                          NaN                             NaN   \n",
      "4920                          NaN                             NaN   \n",
      "4921                          NaN                             NaN   \n",
      "4922                          NaN                             NaN   \n",
      "\n",
      "                 Symptom_13           Symptom_14  Symptom_15       Symptom_16  \\\n",
      "0                       NaN                  NaN         NaN              NaN   \n",
      "1                       NaN                  NaN         NaN              NaN   \n",
      "2                       NaN                  NaN         NaN              NaN   \n",
      "3                       NaN                  NaN         NaN              NaN   \n",
      "4                       NaN                  NaN         NaN              NaN   \n",
      "5                       NaN                  NaN         NaN              NaN   \n",
      "6                       NaN                  NaN         NaN              NaN   \n",
      "7                       NaN                  NaN         NaN              NaN   \n",
      "8                       NaN                  NaN         NaN              NaN   \n",
      "9                       NaN                  NaN         NaN              NaN   \n",
      "10                      NaN                  NaN         NaN              NaN   \n",
      "11                      NaN                  NaN         NaN              NaN   \n",
      "12                      NaN                  NaN         NaN              NaN   \n",
      "13                      NaN                  NaN         NaN              NaN   \n",
      "14                      NaN                  NaN         NaN              NaN   \n",
      "15                      NaN                  NaN         NaN              NaN   \n",
      "16                      NaN                  NaN         NaN              NaN   \n",
      "17                      NaN                  NaN         NaN              NaN   \n",
      "18                      NaN                  NaN         NaN              NaN   \n",
      "19                      NaN                  NaN         NaN              NaN   \n",
      "20                      NaN                  NaN         NaN              NaN   \n",
      "21                      NaN                  NaN         NaN              NaN   \n",
      "22                      NaN                  NaN         NaN              NaN   \n",
      "23                      NaN                  NaN         NaN              NaN   \n",
      "24                      NaN                  NaN         NaN              NaN   \n",
      "25                      NaN                  NaN         NaN              NaN   \n",
      "26                      NaN                  NaN         NaN              NaN   \n",
      "27                      NaN                  NaN         NaN              NaN   \n",
      "28                      NaN                  NaN         NaN              NaN   \n",
      "29                      NaN                  NaN         NaN              NaN   \n",
      "...                     ...                  ...         ...              ...   \n",
      "4893                    NaN                  NaN         NaN              NaN   \n",
      "4894                    NaN                  NaN         NaN              NaN   \n",
      "4895                    NaN                  NaN         NaN              NaN   \n",
      "4896            muscle_pain  red_spots_over_body         NaN              NaN   \n",
      "4897                    NaN                  NaN         NaN              NaN   \n",
      "4898                    NaN                  NaN         NaN              NaN   \n",
      "4899                    NaN                  NaN         NaN              NaN   \n",
      "4900                    NaN                  NaN         NaN              NaN   \n",
      "4901                    NaN                  NaN         NaN              NaN   \n",
      "4902       stomach_bleeding                  NaN         NaN              NaN   \n",
      "4903                    NaN                  NaN         NaN              NaN   \n",
      "4904                malaise               phlegm  chest_pain  blood_in_sputum   \n",
      "4905             runny_nose           congestion  chest_pain    loss_of_smell   \n",
      "4906                    NaN                  NaN         NaN              NaN   \n",
      "4907                    NaN                  NaN         NaN              NaN   \n",
      "4908                    NaN                  NaN         NaN              NaN   \n",
      "4909                    NaN                  NaN         NaN              NaN   \n",
      "4910  abnormal_menstruation                  NaN         NaN              NaN   \n",
      "4911                    NaN                  NaN         NaN              NaN   \n",
      "4912                    NaN                  NaN         NaN              NaN   \n",
      "4913                    NaN                  NaN         NaN              NaN   \n",
      "4914                    NaN                  NaN         NaN              NaN   \n",
      "4915                    NaN                  NaN         NaN              NaN   \n",
      "4916                    NaN                  NaN         NaN              NaN   \n",
      "4917                    NaN                  NaN         NaN              NaN   \n",
      "4918                    NaN                  NaN         NaN              NaN   \n",
      "4919                    NaN                  NaN         NaN              NaN   \n",
      "4920                    NaN                  NaN         NaN              NaN   \n",
      "4921                    NaN                  NaN         NaN              NaN   \n",
      "4922                    NaN                  NaN         NaN              NaN   \n",
      "\n",
      "       Symptom_17  \n",
      "0             NaN  \n",
      "1             NaN  \n",
      "2             NaN  \n",
      "3             NaN  \n",
      "4             NaN  \n",
      "5             NaN  \n",
      "6             NaN  \n",
      "7             NaN  \n",
      "8             NaN  \n",
      "9             NaN  \n",
      "10            NaN  \n",
      "11            NaN  \n",
      "12            NaN  \n",
      "13            NaN  \n",
      "14            NaN  \n",
      "15            NaN  \n",
      "16            NaN  \n",
      "17            NaN  \n",
      "18            NaN  \n",
      "19            NaN  \n",
      "20            NaN  \n",
      "21            NaN  \n",
      "22            NaN  \n",
      "23            NaN  \n",
      "24            NaN  \n",
      "25            NaN  \n",
      "26            NaN  \n",
      "27            NaN  \n",
      "28            NaN  \n",
      "29            NaN  \n",
      "...           ...  \n",
      "4893          NaN  \n",
      "4894          NaN  \n",
      "4895          NaN  \n",
      "4896          NaN  \n",
      "4897          NaN  \n",
      "4898          NaN  \n",
      "4899          NaN  \n",
      "4900          NaN  \n",
      "4901          NaN  \n",
      "4902          NaN  \n",
      "4903          NaN  \n",
      "4904          NaN  \n",
      "4905  muscle_pain  \n",
      "4906          NaN  \n",
      "4907          NaN  \n",
      "4908          NaN  \n",
      "4909          NaN  \n",
      "4910          NaN  \n",
      "4911          NaN  \n",
      "4912          NaN  \n",
      "4913          NaN  \n",
      "4914          NaN  \n",
      "4915          NaN  \n",
      "4916          NaN  \n",
      "4917          NaN  \n",
      "4918          NaN  \n",
      "4919          NaN  \n",
      "4920          NaN  \n",
      "4921          NaN  \n",
      "4922          NaN  \n",
      "\n",
      "[4923 rows x 18 columns]\n"
     ]
    },
    {
     "name": "stdin",
     "output_type": "stream",
     "text": [
      "['skin_rash', 'nodal_skin_eruptions', 'shivering', 'chills', 'acidity', 'ulcers_on_tongue', 'vomiting', 'yellowish_skin', 'stomach_pain', 'loss_of_appetite', 'indigestion', 'patches_in_throat', 'high_fever', 'weight_loss', 'restlessness', 'sunken_eyes', 'dehydration', 'cough', 'chest_pain', 'dizziness', 'headache', 'weakness_in_limbs', 'neck_pain', 'weakness_of_one_body_side', 'fatigue', 'joint_pain', 'lethargy', 'nausea', 'abdominal_pain', 'pain_during_bowel_movements', 'pain_in_anal_region', 'breathlessness', 'sweating', 'cramps', 'bruising', 'weight_gain', 'cold_hands_and_feets', 'mood_swings', 'anxiety', 'knee_pain', 'stiff_neck', 'swelling_joints', 'pus_filled_pimples', 'blackheads', 'bladder_discomfort', 'foul_smell_of urine', 'skin_peeling', 'blister', 'Tiredness', 'Dry-Cough'] Dry-Cough\n"
     ]
    },
    {
     "name": "stdout",
     "output_type": "stream",
     "text": [
      "     Disease  Symptom_1  Symptom_2                Symptom_3    Symptom_4  \\\n",
      "4922   covid  Tiredness  Dry-Cough  Difficulty-in-Breathing  sore_throat   \n",
      "\n",
      "     Symptom_5         Symptom_6   Symptom_7 Symptom_8 Symptom_9 Symptom_10  \\\n",
      "4922     pains  Nasal_Congestion  Runny_Nose  Diarrhea       NaN        NaN   \n",
      "\n",
      "     Symptom_11 Symptom_12 Symptom_13 Symptom_14 Symptom_15 Symptom_16  \\\n",
      "4922        NaN        NaN        NaN        NaN        NaN        NaN   \n",
      "\n",
      "     Symptom_17  \n",
      "4922        NaN  \n",
      "covid\n"
     ]
    }
   ],
   "source": [
    "# Here is the actual implementation"
   ]
  },
  {
   "cell_type": "markdown",
   "metadata": {},
   "source": [
    "**Predicted Disease**"
   ]
  },
  {
   "cell_type": "code",
   "execution_count": 4,
   "metadata": {},
   "outputs": [
    {
     "name": "stdout",
     "output_type": "stream",
     "text": [
      "covid\n"
     ]
    }
   ],
   "source": [
    "print(out['Disease'].unique()[0])"
   ]
  }
 ],
 "metadata": {
  "kernelspec": {
   "display_name": "Python 3",
   "language": "python",
   "name": "python3"
  },
  "language_info": {
   "codemirror_mode": {
    "name": "ipython",
    "version": 3
   },
   "file_extension": ".py",
   "mimetype": "text/x-python",
   "name": "python",
   "nbconvert_exporter": "python",
   "pygments_lexer": "ipython3",
   "version": "3.6.6"
  },
  "papermill": {
   "duration": 11.660199,
   "end_time": "2020-11-29T11:47:01.323739",
   "environment_variables": {},
   "exception": null,
   "input_path": "__notebook__.ipynb",
   "output_path": "__notebook__.ipynb",
   "parameters": {},
   "start_time": "2020-11-29T11:46:49.663540",
   "version": "2.1.0"
  }
 },
 "nbformat": 4,
 "nbformat_minor": 4
}
